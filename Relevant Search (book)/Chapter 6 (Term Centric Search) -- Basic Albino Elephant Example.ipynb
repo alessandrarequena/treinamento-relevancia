{
 "cells": [
  {
   "cell_type": "markdown",
   "metadata": {},
   "source": [
    "# 6.2.1 -- Listing 1 Index two docs"
   ]
  },
  {
   "cell_type": "code",
   "execution_count": 4,
   "metadata": {},
   "outputs": [
    {
     "name": "stdout",
     "output_type": "stream",
     "text": [
      "{\"_index\":\"albinoelephant\",\"_type\":\"docs\",\"_id\":\"2\",\"_version\":6,\"_shards\":{\"total\":2,\"successful\":1,\"failed\":0},\"created\":false}\n"
     ]
    }
   ],
   "source": [
    "import requests\n",
    "import json\n",
    "\n",
    "# PUT albinoelephant/docs/1\n",
    "# { \"title\":\"albino\", \"body\": \"elephant\"}\n",
    "# PUT albinoelephant/docs/1\n",
    "# { \"title\":\"elephant\", \"body\": \"elephant\"}\n",
    "\n",
    "\n",
    "\n",
    "resp = requests.put('http://localhost:9200/albinoelephant/docs/1',\n",
    "                    data=json.dumps({'title': 'albino',\n",
    "                                     'body': 'elephant'}))\n",
    "resp = requests.put('http://localhost:9200/albinoelephant/docs/2',\n",
    "                    data=json.dumps({'title': 'elephant',\n",
    "                                     'body': 'elephant'}))\n",
    "print resp.text"
   ]
  },
  {
   "cell_type": "markdown",
   "metadata": {},
   "source": [
    "# 6.2.1, Listing 2 Searching for the infamous ‘albino elephant’"
   ]
  },
  {
   "cell_type": "code",
   "execution_count": 5,
   "metadata": {},
   "outputs": [
    {
     "name": "stdout",
     "output_type": "stream",
     "text": [
      "200\n",
      "{\n",
      "  \"took\" : 75,\n",
      "  \"timed_out\" : false,\n",
      "  \"_shards\" : {\n",
      "    \"total\" : 5,\n",
      "    \"successful\" : 5,\n",
      "    \"failed\" : 0\n",
      "  },\n",
      "  \"hits\" : {\n",
      "    \"total\" : 2,\n",
      "    \"max_score\" : 0.06365098,\n",
      "    \"hits\" : [ {\n",
      "      \"_index\" : \"albinoelephant\",\n",
      "      \"_type\" : \"docs\",\n",
      "      \"_id\" : \"2\",\n",
      "      \"_score\" : 0.06365098,\n",
      "      \"_source\":{\"body\": \"elephant\", \"title\": \"elephant\"}\n",
      "    }, {\n",
      "      \"_index\" : \"albinoelephant\",\n",
      "      \"_type\" : \"docs\",\n",
      "      \"_id\" : \"1\",\n",
      "      \"_score\" : 0.06365098,\n",
      "      \"_source\":{\"body\": \"elephant\", \"title\": \"albino\"}\n",
      "    } ]\n",
      "  }\n",
      "}\n",
      "\n"
     ]
    }
   ],
   "source": [
    "query = {\n",
    "    'query': {\n",
    "        'multi_match': {\n",
    "            'query': 'albino elephant',\n",
    "            'type': 'most_fields',\n",
    "            'fields': ['title', 'body']\n",
    "        }\n",
    "    }\n",
    "}\n",
    "\n",
    "# Notice how \"title:elephant body:elephant gets same score as title:albino body:elephant\n",
    "# This 'most fields' is equivelant to Lucene's MultiFieldQueryParser \n",
    "# https://lucene.apache.org/core/4_1_0/queryparser/org/apache/lucene/queryparser/classic/MultiFieldQueryParser.html\n",
    "# So Chuck complained and proposed a fix in \n",
    "# https://issues.apache.org/jira/browse/LUCENE-323\n",
    "#GET albinoelephant/docs/_search?pretty=true #C\n",
    "#{\n",
    "#    'query': {\n",
    "#        'multi_match': {\n",
    "#            'query': 'albino elephant',\n",
    "#            'type': 'most_fields',\n",
    "#            'fields': ['title', 'body']\n",
    "#        }}}\n",
    "#\n",
    "#\n",
    "#\n",
    "#\n",
    "resp = requests.get('http://localhost:9200/albinoelephant/docs/_search?pretty=true', data=json.dumps(query))\n",
    "print resp.status_code\n",
    "print resp.text"
   ]
  },
  {
   "cell_type": "code",
   "execution_count": null,
   "metadata": {},
   "outputs": [],
   "source": []
  }
 ],
 "metadata": {
  "kernelspec": {
   "display_name": "Python 3",
   "language": "python",
   "name": "python3"
  },
  "language_info": {
   "codemirror_mode": {
    "name": "ipython",
    "version": 3
   },
   "file_extension": ".py",
   "mimetype": "text/x-python",
   "name": "python",
   "nbconvert_exporter": "python",
   "pygments_lexer": "ipython3",
   "version": "3.6.5"
  }
 },
 "nbformat": 4,
 "nbformat_minor": 1
}
