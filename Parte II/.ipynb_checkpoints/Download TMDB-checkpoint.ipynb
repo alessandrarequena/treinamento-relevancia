{
 "cells": [
  {
   "cell_type": "markdown",
   "metadata": {},
   "source": [
    "# Boilerplate Code"
   ]
  },
  {
   "cell_type": "code",
   "execution_count": 1,
   "metadata": {},
   "outputs": [],
   "source": [
    "import requests\n",
    "import json\n",
    "import os\n",
    "import time\n",
    "from requests.exceptions import ConnectionError\n",
    "\n",
    "# you'll need to have an API key for TMDB\n",
    "# to run these examples,\n",
    "# run export TMDB_API_KEY=<YourAPIKey>\n",
    "tmdb_api_key = '321ea1a12b9a5472be76e6b1ed2db21b'\n",
    "# Setup tmdb as its own session, caching requests\n",
    "# (we only want to cache tmdb, not elasticsearch)\n",
    "# Get your TMDB API key from\n",
    "#  https://www.themoviedb.org/documentation/api\n",
    "# then in shell do export TMDB_API_KEY=<Your Key>\n",
    "tmdb_api = requests.Session()\n",
    "tmdb_api.params={'api_key': tmdb_api_key}"
   ]
  },
  {
   "cell_type": "markdown",
   "metadata": {},
   "source": [
    "# Getting a List of Movies"
   ]
  },
  {
   "cell_type": "code",
   "execution_count": 2,
   "metadata": {},
   "outputs": [],
   "source": [
    "def movieList(maxMovies=10000):\n",
    "    url = 'https://api.themoviedb.org/3/movie/top_rated'\n",
    "    movieIds = [];\n",
    "    numPages = int(maxMovies / 20)\n",
    "    for page in range(1, numPages + 1): #A\n",
    "        if page % 10 == 0:\n",
    "            time.sleep(3)  # Sleep for 3 seconds every tenth request\n",
    "        try:\n",
    "            httpResp = tmdb_api.get(url, params={'page': page})  #B\n",
    "        except Exception as e:\n",
    "            print(e)            \n",
    "            print(len(movieIds))\n",
    "        jsonResponse = json.loads(httpResp.text) #C\n",
    "        movies = jsonResponse['results']\n",
    "        for movie in movies: #D\n",
    "            movieIds.append(movie['id'])\n",
    "    return movieIds"
   ]
  },
  {
   "cell_type": "markdown",
   "metadata": {},
   "source": [
    "# Extract Using TMDB"
   ]
  },
  {
   "cell_type": "code",
   "execution_count": 3,
   "metadata": {},
   "outputs": [],
   "source": [
    "def getCastAndCrew(movieId, movie):\n",
    "    httpResp = tmdb_api.get(\"https://api.themoviedb.org/3/movie/%s/credits?language=pt-BR\" % movieId) \n",
    "    credits = json.loads(httpResp.text) #C\n",
    "    try:\n",
    "        crew = credits['crew']\n",
    "        directors = []\n",
    "        for crewMember in crew: #D\n",
    "            if crewMember['job'] == 'Director':\n",
    "                directors.append(crewMember)\n",
    "    except KeyError as e:\n",
    "        print(e)\n",
    "        print(credits)\n",
    "    movie['cast'] = credits['cast'] #E\n",
    "    movie['directors'] = directors \n",
    "\n",
    "def extract(movieIds=[], numMovies=10000):\n",
    "    movieDict = {}\n",
    "    for idx, movieId in enumerate(movieIds):\n",
    "        try:\n",
    "            httpResp = tmdb_api.get(\"https://api.themoviedb.org/3/movie/%s?language=pt-BR\" % movieId)\n",
    "            movie = json.loads(httpResp.text)\n",
    "            getCastAndCrew(movieId, movie)               \n",
    "            movieDict[movieId] = movie\n",
    "            if idx%100 == 0:\n",
    "                print('Vou dormir 6 segundos...')\n",
    "                time.sleep(6)\n",
    "        except ConnectionError as e:\n",
    "            print(e)\n",
    "    return movieDict"
   ]
  },
  {
   "cell_type": "code",
   "execution_count": 4,
   "metadata": {},
   "outputs": [],
   "source": [
    "movieIds = movieList()"
   ]
  },
  {
   "cell_type": "code",
   "execution_count": 5,
   "metadata": {
    "scrolled": true
   },
   "outputs": [
    {
     "name": "stdout",
     "output_type": "stream",
     "text": [
      "Vou dormir 6 segundos...\n",
      "Vou dormir 6 segundos...\n",
      "Vou dormir 6 segundos...\n",
      "Vou dormir 6 segundos...\n",
      "Vou dormir 6 segundos...\n",
      "Vou dormir 6 segundos...\n",
      "Vou dormir 6 segundos...\n",
      "Vou dormir 6 segundos...\n",
      "Vou dormir 6 segundos...\n",
      "Vou dormir 6 segundos...\n",
      "Vou dormir 6 segundos...\n",
      "Vou dormir 6 segundos...\n",
      "Vou dormir 6 segundos...\n",
      "Vou dormir 6 segundos...\n",
      "Vou dormir 6 segundos...\n",
      "Vou dormir 6 segundos...\n",
      "Vou dormir 6 segundos...\n",
      "Vou dormir 6 segundos...\n",
      "Vou dormir 6 segundos...\n",
      "Vou dormir 6 segundos...\n",
      "Vou dormir 6 segundos...\n",
      "Vou dormir 6 segundos...\n",
      "Vou dormir 6 segundos...\n",
      "Vou dormir 6 segundos...\n",
      "Vou dormir 6 segundos...\n",
      "Vou dormir 6 segundos...\n",
      "Vou dormir 6 segundos...\n",
      "Vou dormir 6 segundos...\n",
      "Vou dormir 6 segundos...\n",
      "Vou dormir 6 segundos...\n",
      "Vou dormir 6 segundos...\n",
      "Vou dormir 6 segundos...\n",
      "Vou dormir 6 segundos...\n",
      "Vou dormir 6 segundos...\n",
      "Vou dormir 6 segundos...\n",
      "Vou dormir 6 segundos...\n",
      "Vou dormir 6 segundos...\n",
      "Vou dormir 6 segundos...\n",
      "Vou dormir 6 segundos...\n",
      "Vou dormir 6 segundos...\n",
      "Vou dormir 6 segundos...\n",
      "Vou dormir 6 segundos...\n",
      "Vou dormir 6 segundos...\n",
      "Vou dormir 6 segundos...\n",
      "Vou dormir 6 segundos...\n",
      "Vou dormir 6 segundos...\n",
      "Vou dormir 6 segundos...\n",
      "Vou dormir 6 segundos...\n",
      "Vou dormir 6 segundos...\n",
      "Vou dormir 6 segundos...\n",
      "Vou dormir 6 segundos...\n",
      "Vou dormir 6 segundos...\n",
      "Vou dormir 6 segundos...\n",
      "Vou dormir 6 segundos...\n",
      "Vou dormir 6 segundos...\n",
      "Vou dormir 6 segundos...\n",
      "Vou dormir 6 segundos...\n",
      "Vou dormir 6 segundos...\n",
      "Vou dormir 6 segundos...\n",
      "Vou dormir 6 segundos...\n",
      "Vou dormir 6 segundos...\n",
      "Vou dormir 6 segundos...\n",
      "Vou dormir 6 segundos...\n",
      "Vou dormir 6 segundos...\n",
      "Vou dormir 6 segundos...\n",
      "Vou dormir 6 segundos...\n",
      "Vou dormir 6 segundos...\n",
      "Vou dormir 6 segundos...\n",
      "Vou dormir 6 segundos...\n",
      "Vou dormir 6 segundos...\n",
      "Vou dormir 6 segundos...\n",
      "Vou dormir 6 segundos...\n",
      "Vou dormir 6 segundos...\n",
      "Vou dormir 6 segundos...\n"
     ]
    }
   ],
   "source": [
    "movieDict = extract(movieIds)"
   ]
  },
  {
   "cell_type": "code",
   "execution_count": 6,
   "metadata": {},
   "outputs": [],
   "source": [
    "import pickle \n",
    "pickle.dump(movieDict,open(\"../Dados/movies.p\",\"wb\"))"
   ]
  }
 ],
 "metadata": {
  "kernelspec": {
   "display_name": "Python 3",
   "language": "python",
   "name": "python3"
  },
  "language_info": {
   "codemirror_mode": {
    "name": "ipython",
    "version": 3
   },
   "file_extension": ".py",
   "mimetype": "text/x-python",
   "name": "python",
   "nbconvert_exporter": "python",
   "pygments_lexer": "ipython3",
   "version": "3.6.5"
  }
 },
 "nbformat": 4,
 "nbformat_minor": 1
}
