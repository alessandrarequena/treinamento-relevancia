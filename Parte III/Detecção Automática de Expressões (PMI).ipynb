{
 "cells": [
  {
   "cell_type": "markdown",
   "metadata": {},
   "source": [
    "# Detecção automática de expressões multi-palavras\n",
    "\n",
    "Este notebook mostra como detectar automaticamente frases comuns (aka multi-word expressions, word n-gram collocations) a partir de um stream de sentenças.\n",
    "\n",
    "Paper interessante sobre o assunto: \n",
    "[Distributed Representations of Words and Phrases and their Compositionality](https://arxiv.org/abs/1310.4546)\n",
    "\n",
    "\n",
    "Os dados utilizados são os atos normativos do TCU que foram pré-processados utilizando a seguinte análise:\n",
    "\n",
    "lower case, remoção de acentos, stemming\n"
   ]
  },
  {
   "cell_type": "markdown",
   "metadata": {},
   "source": [
    "## Inicialização"
   ]
  },
  {
   "cell_type": "code",
   "execution_count": 1,
   "metadata": {},
   "outputs": [],
   "source": [
    "DOCS_FOLDER = 'Dados/atos-processados/'\n",
    "BIGRAM_MODEL='bigram_model.bin'\n",
    "TRIGRAM_MODEL='trigram_model.bin'"
   ]
  },
  {
   "cell_type": "markdown",
   "metadata": {},
   "source": [
    "## Obtenção dos dados"
   ]
  },
  {
   "cell_type": "code",
   "execution_count": 2,
   "metadata": {},
   "outputs": [],
   "source": [
    "import glob\n",
    "import os\n",
    "\n",
    "def find_files(folder, remove_empty = False):\n",
    "    \"\"\"\n",
    "    Find all files in [folder]\n",
    "\n",
    "    folder  :   string\n",
    "                    folder to search (not recursive)\n",
    "    \"\"\"\n",
    "    files =  glob.iglob(folder + '**/*.txt', recursive=True)\n",
    "    return files"
   ]
  },
  {
   "cell_type": "code",
   "execution_count": 3,
   "metadata": {},
   "outputs": [],
   "source": [
    "def get_sentences(input_file_pointer):\n",
    "    sentences = []\n",
    "    while True:\n",
    "        line = input_file_pointer.readline()\n",
    "        \n",
    "        if not line:\n",
    "            break\n",
    "        \n",
    "        processed_line = line.strip()\n",
    "        \n",
    "        if processed_line:\n",
    "            sentences.append(processed_line)\n",
    "        \n",
    "    return sentences"
   ]
  },
  {
   "cell_type": "code",
   "execution_count": 4,
   "metadata": {},
   "outputs": [],
   "source": [
    "# Diretório deste notebook\n",
    "diretorio_notebook = os.getcwd()\n",
    "\n",
    "# Diretório onde estão armazenados os dados\n",
    "diretorio_dados = os.path.join(diretorio_notebook, os.path.pardir, DOCS_FOLDER)\n",
    "\n",
    "files = find_files(diretorio_dados)\n",
    "\n",
    "atos = []\n",
    "\n",
    "for i, fpath in enumerate(files):\n",
    "    with open(fpath, encoding=\"utf8\") as f:\n",
    "        sentences = get_sentences(f)\n",
    "        atos.append(sentences)"
   ]
  },
  {
   "cell_type": "code",
   "execution_count": 5,
   "metadata": {},
   "outputs": [],
   "source": [
    "def date_diff_in_seconds(dt2, dt1):\n",
    "    timedelta = dt2 - dt1\n",
    "    return timedelta.days * 24 * 3600 + timedelta.seconds"
   ]
  },
  {
   "cell_type": "code",
   "execution_count": 6,
   "metadata": {},
   "outputs": [
    {
     "name": "stdout",
     "output_type": "stream",
     "text": [
      "Leitura dos dados concluída (took 67 seconds)\n"
     ]
    }
   ],
   "source": [
    "from nltk.tokenize import word_tokenize\n",
    "from datetime import datetime\n",
    "\n",
    "sentence_stream = []\n",
    "\n",
    "start = datetime.now()\n",
    "\n",
    "for content in atos:\n",
    "    sentenca_tokenizada = []\n",
    "    for sentenca in content:\n",
    "        sentenca_tokenizada = word_tokenize(sentenca)\n",
    "        sentence_stream.append(sentenca_tokenizada)\n",
    "        \n",
    "end = datetime.now()\n",
    "delta = date_diff_in_seconds(end, start)\n",
    "print('Leitura dos dados concluída (took %d seconds)' % (delta))"
   ]
  },
  {
   "cell_type": "markdown",
   "metadata": {},
   "source": [
    "# Treinamento do modelo"
   ]
  },
  {
   "cell_type": "code",
   "execution_count": 7,
   "metadata": {},
   "outputs": [
    {
     "name": "stderr",
     "output_type": "stream",
     "text": [
      "C:\\Users\\Alessandra\\Anaconda3\\lib\\site-packages\\gensim\\utils.py:1197: UserWarning: detected Windows; aliasing chunkize to chunkize_serial\n",
      "  warnings.warn(\"detected Windows; aliasing chunkize to chunkize_serial\")\n"
     ]
    },
    {
     "name": "stdout",
     "output_type": "stream",
     "text": [
      "Extração dos bigramas e trigramas concluída (took 56 seconds)\n"
     ]
    }
   ],
   "source": [
    "from gensim.models.phrases import Phrases, Phraser\n",
    "\n",
    "biset = set()\n",
    "triset = set()\n",
    "\n",
    "start = datetime.now()\n",
    "\n",
    "bigram = Phraser(Phrases(sentence_stream, min_count=5))\n",
    "trigram = Phraser(Phrases(bigram[sentence_stream], min_count=5))\n",
    "\n",
    "for sent in sentence_stream:\n",
    "    bigrams_ = [b for b in bigram[sent] if b.count('_') == 1]\n",
    "    trigrams_ = [t for t in trigram[bigram[sent]] if t.count('_') == 2]\n",
    "\n",
    "    biset.update(bigrams_)\n",
    "    triset.update(trigrams_)\n",
    "    \n",
    "end = datetime.now()\n",
    "delta = date_diff_in_seconds(end, start)\n",
    "print('Extração dos bigramas e trigramas concluída (took %d seconds)' % (delta))"
   ]
  },
  {
   "cell_type": "markdown",
   "metadata": {},
   "source": [
    "# Exemplos de bigramas e trigramas identificados"
   ]
  },
  {
   "cell_type": "code",
   "execution_count": 8,
   "metadata": {},
   "outputs": [
    {
     "name": "stdout",
     "output_type": "stream",
     "text": [
      "['tribunal', 'cont_unia']\n"
     ]
    }
   ],
   "source": [
    "print(bigram['tribunal', 'cont', 'unia'])"
   ]
  },
  {
   "cell_type": "code",
   "execution_count": 9,
   "metadata": {},
   "outputs": [
    {
     "name": "stdout",
     "output_type": "stream",
     "text": [
      "['alessandra', 'requena']\n"
     ]
    }
   ],
   "source": [
    "print(bigram['alessandra', 'requena'])"
   ]
  },
  {
   "cell_type": "code",
   "execution_count": 12,
   "metadata": {},
   "outputs": [
    {
     "name": "stdout",
     "output_type": "stream",
     "text": [
      "['imov_rur']\n"
     ]
    }
   ],
   "source": [
    "print(bigram['imov', 'rur'])"
   ]
  },
  {
   "cell_type": "code",
   "execution_count": 22,
   "metadata": {},
   "outputs": [
    {
     "name": "stdout",
     "output_type": "stream",
     "text": [
      "['supriment_fund']\n"
     ]
    }
   ],
   "source": [
    "print(bigram['supriment','fund'])"
   ]
  },
  {
   "cell_type": "code",
   "execution_count": 30,
   "metadata": {},
   "outputs": [
    {
     "name": "stdout",
     "output_type": "stream",
     "text": [
      "['tribunal_cont_unia']\n"
     ]
    }
   ],
   "source": [
    "print(trigram[bigram['tribunal', 'cont', 'unia']])"
   ]
  },
  {
   "cell_type": "code",
   "execution_count": 31,
   "metadata": {},
   "outputs": [
    {
     "name": "stdout",
     "output_type": "stream",
     "text": [
      "['fund_particip_municipi']\n"
     ]
    }
   ],
   "source": [
    "print(trigram[bigram['fund', 'particip', 'municipi']])"
   ]
  },
  {
   "cell_type": "markdown",
   "metadata": {},
   "source": [
    "### Foram identificados 11719 bigramas: vejam exemplos"
   ]
  },
  {
   "cell_type": "code",
   "execution_count": 36,
   "metadata": {},
   "outputs": [
    {
     "data": {
      "text/plain": [
       "11719"
      ]
     },
     "execution_count": 36,
     "metadata": {},
     "output_type": "execute_result"
    }
   ],
   "source": [
    "len(biset)"
   ]
  },
  {
   "cell_type": "markdown",
   "metadata": {},
   "source": [
    "Alguns bigramas interessantes:\n",
    "* imóvel rural (imov_rur)\n",
    "* gratificação natalina (gratific_natalin)\n",
    "* incidente de uniformização (incident_uniformiz)"
   ]
  },
  {
   "cell_type": "code",
   "execution_count": 38,
   "metadata": {
    "scrolled": true
   },
   "outputs": [
    {
     "name": "stdout",
     "output_type": "stream",
     "text": [
      "riach_santan\n",
      "incidente_redutor\n",
      "estad_acr\n",
      "sergip_sescoops\n",
      "atest_obit\n",
      "consanguine_afins\n",
      "fortal_taboca\n",
      "estadual_distrital\n",
      "terceiriz_estagiari\n",
      "compativ_dem\n",
      "carat_experimental\n",
      "melhor_pratic\n",
      "diretori_municip\n",
      "remoca_ped\n",
      "licencapremi_assidu\n",
      "decisa_irrecorr\n",
      "civil_fnac\n",
      "uberland_ufu\n",
      "regia_df\n",
      "formaca_red\n",
      "fiscal_comercial\n",
      "imov_rur\n",
      "totaliz_imov\n",
      "gram_loureir\n",
      "assent_funcional\n",
      "relat_subitemns\n",
      "lanc_corret\n",
      "eduard_duailib\n",
      "rodovi_federalm\n",
      "siti_dabad\n",
      "gratific_natalin\n",
      "prevenca_detecca\n",
      "portador_necess\n",
      "citaca_revel\n",
      "infraestrutur_seinfraoper\n",
      "financi_nord\n",
      "itaun_sul\n",
      "conceit_desempenh\n",
      "georeferenci_passiv\n",
      "obtem_font\n",
      "pedr_osori\n",
      "mat_queim\n",
      "doutor_severian\n",
      "homolog_estagi\n",
      "eventu_diferenc\n",
      "beneficiariotitul_vbmt\n",
      "licenc_conced\n",
      "olh_dagu\n",
      "carnaubeir_penh\n",
      "obrig_comet\n",
      "amaral_ferrador\n",
      "comprovad_estudant\n",
      "capa_lea\n",
      "sebastia_parais\n",
      "condutor_veicul\n",
      "quinz_minut\n",
      "lago_velh\n",
      "independente_objetiv\n",
      "cbex_mptcu\n",
      "dissemin_incentiv\n",
      "jos_safira\n",
      "vincul_ministerial\n",
      "uj_rfb\n",
      "vint_cent\n",
      "pitagor_fas\n",
      "relaca_accountability\n",
      "diurn_escal\n",
      "cons_cct\n",
      "formulari_gpd\n",
      "ministeri_saudeal\n",
      "alfen_unifal\n",
      "adgecex_seginf\n",
      "avaliat_pendent\n",
      "escolar_exig\n",
      "avenc_subdivid\n",
      "riacha_nev\n",
      "marinh_dasm\n",
      "quantidad_famil\n",
      "unidad_prestador\n",
      "impossibil_inconveniente\n",
      "insuficiente_creditosrecurs\n",
      "mont_sia\n",
      "chapada_ceu\n",
      "celul_mod\n",
      "consult_carat\n",
      "delegac_capitan\n",
      "antoni_padu\n",
      "educ_distanc\n",
      "joa_merit\n",
      "corrent_liqu\n",
      "luis_quitund\n",
      "aquisica_bens\n",
      "incident_uniformiz\n",
      "program_reconhes\n",
      "segep_seng\n",
      "cient_responsabil\n",
      "rp_process\n",
      "dot_signific\n",
      "sant_teres\n",
      "sebastia_leal\n",
      "red_ferrovi\n",
      "cumulat_long\n"
     ]
    }
   ],
   "source": [
    "cont = 0\n",
    "for idx, x in enumerate(biset):\n",
    "    print(x)\n",
    "    if idx > 100:\n",
    "        break"
   ]
  },
  {
   "cell_type": "markdown",
   "metadata": {},
   "source": [
    "### Foram identificados 8641 trigramas: vejam exemplos"
   ]
  },
  {
   "cell_type": "code",
   "execution_count": 33,
   "metadata": {},
   "outputs": [
    {
     "data": {
      "text/plain": [
       "8641"
      ]
     },
     "execution_count": 33,
     "metadata": {},
     "output_type": "execute_result"
    }
   ],
   "source": [
    "len(triset)"
   ]
  },
  {
   "cell_type": "markdown",
   "metadata": {},
   "source": [
    "Alguns trigramas interessantes:\n",
    "* comitê olímpico brasileiro (comit_olimp_brasileir)\n",
    "* redução de jornada de trabalho (reduca_jorn_trabalh)\n",
    "* uso sustentável dos biomas (uso_sustent_biom)"
   ]
  },
  {
   "cell_type": "code",
   "execution_count": 10,
   "metadata": {
    "scrolled": true
   },
   "outputs": [
    {
     "name": "stdout",
     "output_type": "stream",
     "text": [
      "decisa_normativatcu_novembr\n",
      "competent_indici_concernent\n",
      "interposica_recurs_reconsider\n",
      "port_hav_contrapart\n",
      "jurisdica_propr_privat\n",
      "bem_provel_orient\n",
      "med_saneador_adot\n",
      "unidad_integrant_secretariasger\n",
      "fund_combat_erradic\n",
      "superior_r_milha\n",
      "ocupant_carg_agent\n",
      "divers_respons_apresentas\n",
      "engenheir_paul_frontin\n",
      "fund_garant_safr\n",
      "centr_inteligente_exercit\n",
      "est_divid_dois\n",
      "financeir_materi_human\n",
      "aut_infraca_embarg\n",
      "objetiv_correca_gramatical\n",
      "dat_inici_vigenc\n",
      "afirmat_context_uj\n",
      "quinhent_mil_habitant\n",
      "represent_adequad_univers\n",
      "consentane_teor_respect\n",
      "garant_capit_terceir\n",
      "atual_precis_oportun\n",
      "defensor_public_unia\n",
      "declar_bens_rendiment\n",
      "espirit_sant_suest\n",
      "objet_convincent_construt\n",
      "invest_caix_bi\n",
      "coub_fundaca_institu\n",
      "mesm_cess_convoc\n",
      "fund_direit_crianc\n",
      "outr_corespons_atos\n",
      "servidor_carreir_tipic\n",
      "cuj_pen_exced\n",
      "apresent_defes_recolh\n",
      "aca_ordin_preferenci\n",
      "r_excetu_decorrent\n",
      "energ_eletr_fge\n",
      "referencial_basic_governanc\n",
      "estatut_regiment_intern\n",
      "jurisdicion_terceir_prolaca\n",
      "imobiliz_patrimoni_liqu\n",
      "organiz_atualiz_fichari\n",
      "desenvolv_econom_cafeeirafuncaf\n",
      "tramit_carat_sigil\n",
      "dou_seca_pag\n",
      "noss_senhor_nazar\n",
      "nov_alvor_sul\n",
      "estad_acr_sescac\n",
      "situ_distrit_federal\n",
      "fixaca_coeficient_destin\n",
      "cooperativ_sescoop_unidad\n",
      "boletim_paut_sessa\n",
      "form_coerent_escop\n",
      "oportun_melhor_correlat\n",
      "estad_paul_samfsp\n",
      "sant_amar_maranha\n",
      "mediant_transmissa_eletron\n",
      "sal_and_leaseback\n",
      "efet_quitaca_debit\n",
      "regional_trabalh_regiaoms\n",
      "consign_pensa_alimentic\n",
      "produt_defes_seprod\n",
      "locaca_imov_residenci\n",
      "mediant_expedient_dirig\n",
      "expectat_demand_congress\n",
      "ministeri_transport_pemt\n",
      "autoriz_descont_div\n",
      "process_tc_mantendos\n",
      "result_prevenca_dan\n",
      "font_siaf_consultorc\n",
      "solicit_desacord_prescrit\n",
      "compar_valorreferente_defin\n",
      "conceit_desempenh_profissional\n",
      "criteri_caus_efeit\n",
      "metodolog_analis_contabilfinanceir\n",
      "in_dou_pags\n",
      "mant_atualiz_bas\n",
      "dotaca_inicial_atribu\n",
      "racionaliz_simplific_exam\n",
      "enderec_enderecotelefoneemail_orgaoent\n",
      "execuca_orcament_credit\n",
      "estrateg_nord_ceten\n",
      "coordenador_tecnolog_inform\n",
      "espirit_sant_sescoop\n",
      "centr_informat_process\n",
      "sen_administr_regionalp\n",
      "oit_auxili_gabinet\n",
      "dirim_questa_relat\n",
      "operacional_siaf_gerencial\n",
      "expectat_congress_nacional\n",
      "cust_segreg_segment\n",
      "unidad_federacaoparticip_percentual\n",
      "agu_doc_maranha\n",
      "nacional_aliment_escol\n",
      "entidad_dev_pronunciars\n",
      "perd_extravi_outr\n",
      "descrimin_nivel_minim\n",
      "inclusiv_term_adit\n",
      "term_tutel_guard\n",
      "enfermag_ocupant_carg\n",
      "rio_branc_irbr\n",
      "congress_nacional_mid\n",
      "funcionari_equivalent_hu\n",
      "produt_fator_popul\n",
      "sistem_inteligente_suport\n",
      "regional_eou_subregional\n",
      "estad_pernambuc_suestp\n",
      "suatrat_oa_senhor\n",
      "desenvolv_inov_pdi\n",
      "sant_antoni_lest\n",
      "rio_grand_sul\n",
      "conhec_deliber_colegi\n",
      "dao_suport_are\n",
      "recurs_orcamentari_adequ\n",
      "bel_vist_carob\n",
      "bord_crach_camp\n",
      "proposica_med_saneador\n",
      "cas_evidenc_substancial\n",
      "duas_cas_decim\n",
      "antoni_freit_cavalcant\n",
      "bas_dad_fornec\n",
      "confiabil_exatida_font\n",
      "sobr_instaur_correspondent\n",
      "propor_registr_elogi\n",
      "qualidad_vid_aloc\n",
      "respons_retr_refer\n",
      "aguard_transit_julg\n",
      "estad_cear_secexc\n",
      "projet_navi_cnp\n",
      "competente_constitucion_leg\n",
      "objet_socioeconom_renunc\n",
      "mapeament_sistem_informatiz\n",
      "fat_document_comprobatori\n",
      "bel_vist_goi\n",
      "inclu_paut_sessa\n",
      "secretariogeral_consultor_subdefensor\n",
      "faz_brev_relat\n",
      "nacional_sindicat_representat\n",
      "tribunal_referirs_respons\n",
      "interstici_doz_mes\n",
      "licenc_fer_outr\n",
      "cumpr_faz_cumpr\n",
      "estav_localiz_padra\n",
      "nort_tcutcuufsistemasbtcu_estadu\n",
      "tend_apresent_intempestiv\n",
      "conselh_fiscaliz_profissionalfundacoesempres\n",
      "incentiv_cultur_ambit\n",
      "solicit_formal_dipag\n",
      "decisa_normativatcu_tiv\n",
      "sant_fe_sul\n",
      "cosin_mat_correlat\n",
      "curs_mestr_doutor\n",
      "ministeri_defesacom_marinh\n",
      "material_relevanc_risc\n",
      "credit_liquid_duvid\n",
      "superior_dois_salari\n",
      "adoca_med_cautel\n",
      "patrimoni_liqu_medi\n",
      "fit_fornec_orient\n",
      "aument_capital_empres\n",
      "noss_senhor_remedi\n",
      "patrimonial_demonstr_variaca\n",
      "pesso_jurid_junt\n",
      "micr_pequen_empres\n",
      "polit_valoriz_servidor\n",
      "logist_sustent_plstcu\n",
      "jur_encarg_div\n",
      "enquant_sancion_lei\n",
      "sant_terez_goi\n",
      "nacional_antidrog_funad\n",
      "regional_trabalh_regiaoac\n",
      "funca_subfunca_program\n",
      "homogen_construca_indic\n",
      "referent_atos_admissa\n",
      "gerenc_diar_passagens\n",
      "porcentag_mensal_orcament\n",
      "percentual_public_alv\n",
      "ministeri_esport_pem\n",
      "referente_correspond_rdpcn\n",
      "inexigibil_dispens_licit\n",
      "paul_affons_martins\n",
      "observanc_limit_fix\n",
      "outr_esclarec_necessari\n",
      "bb_banc_popul\n",
      "estad_pernambuc_corep\n",
      "v_dissemin_incentiv\n",
      "segund_grau_incomplet\n",
      "nacion_multilater_foc\n",
      "ceplac_superintendente_regional\n",
      "sant_mar_itabira\n",
      "indici_irregular_apont\n",
      "receb_triag_classific\n",
      "tot_hospital_universitari\n",
      "cas_mudanc_lotaca\n",
      "antecedente_minim_dois\n",
      "apresent_demonstrat_adica\n",
      "tenh_sofr_ajust\n",
      "transferente_constitucion_div\n"
     ]
    }
   ],
   "source": [
    "cont = 0\n",
    "for idx, x in enumerate(triset):\n",
    "    print(x)\n",
    "    if idx > 200:\n",
    "        break"
   ]
  },
  {
   "cell_type": "code",
   "execution_count": null,
   "metadata": {},
   "outputs": [],
   "source": []
  }
 ],
 "metadata": {
  "kernelspec": {
   "display_name": "Python 3",
   "language": "python",
   "name": "python3"
  },
  "language_info": {
   "codemirror_mode": {
    "name": "ipython",
    "version": 3
   },
   "file_extension": ".py",
   "mimetype": "text/x-python",
   "name": "python",
   "nbconvert_exporter": "python",
   "pygments_lexer": "ipython3",
   "version": "3.6.5"
  }
 },
 "nbformat": 4,
 "nbformat_minor": 2
}
