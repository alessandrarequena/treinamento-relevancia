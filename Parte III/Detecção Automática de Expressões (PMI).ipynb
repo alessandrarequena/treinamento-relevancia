{
 "cells": [
  {
   "cell_type": "markdown",
   "metadata": {},
   "source": [
    "# Detecção automática de expressões multi-palavras\n",
    "\n",
    "Este notebook mostra como detectar automaticamente frases comuns (aka multi-word expressions, word n-gram collocations) a partir de um stream de sentenças.\n",
    "\n",
    "Paper interessante sobre o assunto: \n",
    "[Distributed Representations of Words and Phrases and their Compositionality](https://arxiv.org/abs/1310.4546)\n",
    "\n",
    "\n",
    "Os dados utilizados são os atos normativos do TCU que foram pré-processados utilizando a seguinte análise:\n",
    "\n",
    "lower case, remoção de acentos, stemming\n"
   ]
  },
  {
   "cell_type": "markdown",
   "metadata": {},
   "source": [
    "## Inicialização"
   ]
  },
  {
   "cell_type": "code",
   "execution_count": 23,
   "metadata": {},
   "outputs": [],
   "source": [
    "DOCS_FOLDER = 'Dados/atos-processados/'\n",
    "BIGRAM_MODEL='bigram_model.bin'\n",
    "TRIGRAM_MODEL='trigram_model.bin'"
   ]
  },
  {
   "cell_type": "markdown",
   "metadata": {},
   "source": [
    "## Obtenção dos dados"
   ]
  },
  {
   "cell_type": "code",
   "execution_count": 24,
   "metadata": {},
   "outputs": [],
   "source": [
    "import glob\n",
    "import os\n",
    "\n",
    "def find_files(folder, remove_empty = False):\n",
    "    \"\"\"\n",
    "    Find all files in [folder]\n",
    "\n",
    "    folder  :   string\n",
    "                    folder to search (not recursive)\n",
    "    \"\"\"\n",
    "    files =  glob.iglob(folder + '**/*.txt', recursive=True)\n",
    "    return files"
   ]
  },
  {
   "cell_type": "code",
   "execution_count": 25,
   "metadata": {},
   "outputs": [],
   "source": [
    "def get_sentences(input_file_pointer):\n",
    "    sentences = []\n",
    "    while True:\n",
    "        line = input_file_pointer.readline()\n",
    "        \n",
    "        if not line:\n",
    "            break\n",
    "        \n",
    "        processed_line = line.strip()\n",
    "        \n",
    "        if processed_line:\n",
    "            sentences.append(processed_line)\n",
    "        \n",
    "    return sentences"
   ]
  },
  {
   "cell_type": "code",
   "execution_count": 26,
   "metadata": {},
   "outputs": [],
   "source": [
    "# Diretório deste notebook\n",
    "diretorio_notebook = os.getcwd()\n",
    "\n",
    "# Diretório onde estão armazenados os dados\n",
    "diretorio_dados = os.path.join(diretorio_notebook, os.path.pardir, DOCS_FOLDER)\n",
    "\n",
    "files = find_files(diretorio_dados)\n",
    "\n",
    "atos = []\n",
    "\n",
    "for i, fpath in enumerate(files):\n",
    "    with open(fpath, encoding=\"utf8\") as f:\n",
    "        sentences = get_sentences(f)\n",
    "        atos.append(sentences)"
   ]
  },
  {
   "cell_type": "code",
   "execution_count": 27,
   "metadata": {},
   "outputs": [],
   "source": [
    "from nltk.tokenize import word_tokenize\n",
    "\n",
    "sentence_stream = []\n",
    "\n",
    "for content in atos:\n",
    "    sentenca_tokenizada = []\n",
    "    for sentenca in content:\n",
    "        sentenca_tokenizada = word_tokenize(sentenca)\n",
    "        sentence_stream.append(sentenca_tokenizada)"
   ]
  },
  {
   "cell_type": "markdown",
   "metadata": {},
   "source": [
    "# Treinamento do modelo"
   ]
  },
  {
   "cell_type": "code",
   "execution_count": 28,
   "metadata": {},
   "outputs": [],
   "source": [
    "from gensim.models.phrases import Phrases, Phraser\n",
    "\n",
    "biset = set()\n",
    "triset = set()\n",
    "\n",
    "bigram = Phraser(Phrases(sentence_stream, min_count=5))\n",
    "trigram = Phraser(Phrases(bigram[sentence_stream], min_count=5))\n",
    "\n",
    "for sent in sentence_stream:\n",
    "    bigrams_ = [b for b in bigram[sent] if b.count('_') == 1]\n",
    "    trigrams_ = [t for t in trigram[bigram[sent]] if t.count('_') == 2]\n",
    "\n",
    "    biset.update(bigrams_)\n",
    "    triset.update(trigrams_)"
   ]
  },
  {
   "cell_type": "markdown",
   "metadata": {},
   "source": [
    "# Exemplos de bigramas e trigramas identificados"
   ]
  },
  {
   "cell_type": "code",
   "execution_count": 29,
   "metadata": {},
   "outputs": [
    {
     "name": "stdout",
     "output_type": "stream",
     "text": [
      "['tribunal', 'cont_unia']\n"
     ]
    }
   ],
   "source": [
    "print(bigram['tribunal', 'cont', 'unia'])"
   ]
  },
  {
   "cell_type": "code",
   "execution_count": 30,
   "metadata": {},
   "outputs": [
    {
     "name": "stdout",
     "output_type": "stream",
     "text": [
      "['tribunal_cont_unia']\n"
     ]
    }
   ],
   "source": [
    "print(trigram[bigram['tribunal', 'cont', 'unia']])"
   ]
  },
  {
   "cell_type": "code",
   "execution_count": 31,
   "metadata": {},
   "outputs": [
    {
     "name": "stdout",
     "output_type": "stream",
     "text": [
      "['fund_particip_municipi']\n"
     ]
    }
   ],
   "source": [
    "print(trigram[bigram['fund', 'particip', 'municipi']])"
   ]
  },
  {
   "cell_type": "markdown",
   "metadata": {},
   "source": [
    "### Foram identificados 11719 bigramas: vejam exemplos"
   ]
  },
  {
   "cell_type": "code",
   "execution_count": 36,
   "metadata": {},
   "outputs": [
    {
     "data": {
      "text/plain": [
       "11719"
      ]
     },
     "execution_count": 36,
     "metadata": {},
     "output_type": "execute_result"
    }
   ],
   "source": [
    "len(biset)"
   ]
  },
  {
   "cell_type": "code",
   "execution_count": 38,
   "metadata": {
    "scrolled": true
   },
   "outputs": [
    {
     "name": "stdout",
     "output_type": "stream",
     "text": [
      "riach_santan\n",
      "incidente_redutor\n",
      "estad_acr\n",
      "sergip_sescoops\n",
      "atest_obit\n",
      "consanguine_afins\n",
      "fortal_taboca\n",
      "estadual_distrital\n",
      "terceiriz_estagiari\n",
      "compativ_dem\n",
      "carat_experimental\n",
      "melhor_pratic\n",
      "diretori_municip\n",
      "remoca_ped\n",
      "licencapremi_assidu\n",
      "decisa_irrecorr\n",
      "civil_fnac\n",
      "uberland_ufu\n",
      "regia_df\n",
      "formaca_red\n",
      "fiscal_comercial\n",
      "imov_rur\n",
      "totaliz_imov\n",
      "gram_loureir\n",
      "assent_funcional\n",
      "relat_subitemns\n",
      "lanc_corret\n",
      "eduard_duailib\n",
      "rodovi_federalm\n",
      "siti_dabad\n",
      "gratific_natalin\n",
      "prevenca_detecca\n",
      "portador_necess\n",
      "citaca_revel\n",
      "infraestrutur_seinfraoper\n",
      "financi_nord\n",
      "itaun_sul\n",
      "conceit_desempenh\n",
      "georeferenci_passiv\n",
      "obtem_font\n",
      "pedr_osori\n",
      "mat_queim\n",
      "doutor_severian\n",
      "homolog_estagi\n",
      "eventu_diferenc\n",
      "beneficiariotitul_vbmt\n",
      "licenc_conced\n",
      "olh_dagu\n",
      "carnaubeir_penh\n",
      "obrig_comet\n",
      "amaral_ferrador\n",
      "comprovad_estudant\n",
      "capa_lea\n",
      "sebastia_parais\n",
      "condutor_veicul\n",
      "quinz_minut\n",
      "lago_velh\n",
      "independente_objetiv\n",
      "cbex_mptcu\n",
      "dissemin_incentiv\n",
      "jos_safira\n",
      "vincul_ministerial\n",
      "uj_rfb\n",
      "vint_cent\n",
      "pitagor_fas\n",
      "relaca_accountability\n",
      "diurn_escal\n",
      "cons_cct\n",
      "formulari_gpd\n",
      "ministeri_saudeal\n",
      "alfen_unifal\n",
      "adgecex_seginf\n",
      "avaliat_pendent\n",
      "escolar_exig\n",
      "avenc_subdivid\n",
      "riacha_nev\n",
      "marinh_dasm\n",
      "quantidad_famil\n",
      "unidad_prestador\n",
      "impossibil_inconveniente\n",
      "insuficiente_creditosrecurs\n",
      "mont_sia\n",
      "chapada_ceu\n",
      "celul_mod\n",
      "consult_carat\n",
      "delegac_capitan\n",
      "antoni_padu\n",
      "educ_distanc\n",
      "joa_merit\n",
      "corrent_liqu\n",
      "luis_quitund\n",
      "aquisica_bens\n",
      "incident_uniformiz\n",
      "program_reconhes\n",
      "segep_seng\n",
      "cient_responsabil\n",
      "rp_process\n",
      "dot_signific\n",
      "sant_teres\n",
      "sebastia_leal\n",
      "red_ferrovi\n",
      "cumulat_long\n"
     ]
    }
   ],
   "source": [
    "cont = 0\n",
    "for idx, x in enumerate(biset):\n",
    "    print(x)\n",
    "    if idx > 100:\n",
    "        break"
   ]
  },
  {
   "cell_type": "markdown",
   "metadata": {},
   "source": [
    "### Foram identificados 8641 trigramas: vejam exemplos"
   ]
  },
  {
   "cell_type": "code",
   "execution_count": 33,
   "metadata": {},
   "outputs": [
    {
     "data": {
      "text/plain": [
       "8641"
      ]
     },
     "execution_count": 33,
     "metadata": {},
     "output_type": "execute_result"
    }
   ],
   "source": [
    "len(triset)"
   ]
  },
  {
   "cell_type": "code",
   "execution_count": 39,
   "metadata": {
    "scrolled": true
   },
   "outputs": [
    {
     "name": "stdout",
     "output_type": "stream",
     "text": [
      "sant_catarin_crasc\n",
      "maior_absolut_membr\n",
      "sucint_comissa_inquerit\n",
      "nom_inscrica_oab\n",
      "bem_quaisqu_outr\n",
      "joa_rio_peix\n",
      "licenc_mesm_espec\n",
      "prev_pes_fator\n",
      "procurador_region_unia\n",
      "dad_text_imagens\n",
      "quantidad_montant_repass\n",
      "superintendente_regional_incr\n",
      "ger_apoi_caix\n",
      "incr_superintendente_regionalr\n",
      "outr_norm_infraleg\n",
      "ses_depart_regionalb\n",
      "numer_professor_equivalent\n",
      "certific_alt_gerenc\n",
      "term_trat_constitut\n",
      "grup_artilh_antiaere\n",
      "nr_btcu_dou\n",
      "leg_regiment_resolv\n",
      "senac_administr_regionalm\n",
      "estud_lingu_estrangeir\n",
      "estudant_portador_necess\n",
      "hospital_universitari_antoni\n",
      "cas_afirmat_houv\n",
      "ressalv_irregul_sintes\n",
      "submet_deliber_colegi\n",
      "fator_popul_colun\n",
      "passagens_folh_pagament\n",
      "encaminh_cop_pec\n",
      "respect_are_atuaca\n",
      "conhec_habil_atitud\n",
      "estagi_folh_frequenc\n",
      "secretariageral_presidente_segepr\n",
      "nom_unidadesinstituico_papel\n",
      "contab_legal_legitim\n",
      "cifpmint_coeficient_individual\n",
      "classific_licenc_sab\n",
      "cont_sinal_negat\n",
      "anuenc_dirigent_unidad\n",
      "responsabil_usuari_tru\n",
      "profer_primeir_lug\n",
      "funca_poss_retard\n",
      "lei_divers_tipolog\n",
      "comit_olimp_brasileir\n",
      "financeir_operacional_patrimonial\n",
      "superior_trint_dias\n",
      "municipi_enquant_sancion\n",
      "financi_nort_fno\n",
      "gesta_hospital_getuli\n",
      "zel_pel_cumpriment\n",
      "classific_transitori_permanent\n",
      "pecu_abastec_sergip\n",
      "junt_receit_federal\n",
      "homolog_estabil_servidor\n",
      "princip_sigl_abreviatur\n",
      "sistem_siaf_balanc\n",
      "xxxiv_regiment_intern\n",
      "linh_credit_volt\n",
      "relat_aprimor_governanc\n",
      "confirm_inter_remoca\n",
      "f_ensin_fundamental\n",
      "denegatori_observ_dispost\n",
      "cad_ug_compo\n",
      "sent_super_dificuldad\n",
      "dispon_wwwissaiorg_acess\n",
      "atrav_ofici_ucp\n",
      "excetuandos_estoqu_empres\n",
      "federal_regia_trf\n",
      "solicit_preench_requisit\n",
      "ressarc_parcial_despes\n",
      "normat_regenc_dispo\n",
      "orden_simultane_despes\n",
      "oitent_cent_montant\n",
      "desenvolv_amazon_sud\n",
      "patrimoni_imobiliari_responsabil\n",
      "fiscaliz_superior_olacefs\n",
      "estad_bah_coreb\n",
      "pod_fazel_perant\n",
      "correspondent_novent_cent\n",
      "propri_acess_edificiosed\n",
      "afirmat_parcial_aplic\n",
      "senac_administr_regionalpb\n",
      "nacional_meteorolog_inmet\n",
      "consolid_agreg_assinal\n",
      "compost_tres_membr\n",
      "assin_praz_improrrog\n",
      "secret_audiovisual_sav\n",
      "imov_desapropri_aind\n",
      "ganh_adicional_lc\n",
      "realiz_transferente_volunt\n",
      "dispost_resolucoestcu_abril\n",
      "posica_mens_exercici\n",
      "estimul_uso_racional\n",
      "fundament_conclusa_pericial\n",
      "redaca_dad_pel\n",
      "brasil_regia_fiscal\n",
      "candidat_deficiente_compatibil\n",
      "sescoop_administr_regionalpr\n",
      "sant_antoni_sudo\n"
     ]
    }
   ],
   "source": [
    "cont = 0\n",
    "for idx, x in enumerate(triset):\n",
    "    print(x)\n",
    "    if idx > 100:\n",
    "        break"
   ]
  }
 ],
 "metadata": {
  "kernelspec": {
   "display_name": "Python 3",
   "language": "python",
   "name": "python3"
  },
  "language_info": {
   "codemirror_mode": {
    "name": "ipython",
    "version": 3
   },
   "file_extension": ".py",
   "mimetype": "text/x-python",
   "name": "python",
   "nbconvert_exporter": "python",
   "pygments_lexer": "ipython3",
   "version": "3.6.5"
  }
 },
 "nbformat": 4,
 "nbformat_minor": 2
}
